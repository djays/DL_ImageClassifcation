{
 "cells": [
  {
   "cell_type": "markdown",
   "metadata": {
    "collapsed": true,
    "deletable": true,
    "editable": true
   },
   "source": [
    "# Image Classification\n",
    "In this project, you'll classify images from the [CIFAR-10 dataset](https://www.cs.toronto.edu/~kriz/cifar.html).  The dataset consists of airplanes, dogs, cats, and other objects. You'll preprocess the images, then train a convolutional neural network on all the samples. The images need to be normalized and the labels need to be one-hot encoded.  You'll get to apply what you learned and build a convolutional, max pooling, dropout, and fully connected layers.  At the end, you'll get to see your neural network's predictions on the sample images.\n",
    "## Get the Data\n",
    "Run the following cell to download the [CIFAR-10 dataset for python](https://www.cs.toronto.edu/~kriz/cifar-10-python.tar.gz)."
   ]
  },
  {
   "cell_type": "code",
   "execution_count": 1,
   "metadata": {
    "collapsed": false,
    "deletable": true,
    "editable": true
   },
   "outputs": [
    {
     "name": "stdout",
     "output_type": "stream",
     "text": [
      "All files found!\n"
     ]
    }
   ],
   "source": [
    "\"\"\"\n",
    "DON'T MODIFY ANYTHING IN THIS CELL THAT IS BELOW THIS LINE\n",
    "\"\"\"\n",
    "from urllib.request import urlretrieve\n",
    "from os.path import isfile, isdir\n",
    "from tqdm import tqdm\n",
    "import problem_unittests as tests\n",
    "import tarfile\n",
    "\n",
    "cifar10_dataset_folder_path = 'cifar-10-batches-py'\n",
    "floyd_cifar10_path = '/input/cifar-10/python.tar.gz'\n",
    "\n",
    "tar_path = 'cifar-10-python.tar.gz' if not isfile(floyd_cifar10_path) else floyd_cifar10_path\n",
    "\n",
    "class DLProgress(tqdm):\n",
    "    last_block = 0\n",
    "\n",
    "    def hook(self, block_num=1, block_size=1, total_size=None):\n",
    "        self.total = total_size\n",
    "        self.update((block_num - self.last_block) * block_size)\n",
    "        self.last_block = block_num\n",
    "\n",
    "if not isfile(tar_path):\n",
    "    with DLProgress(unit='B', unit_scale=True, miniters=1, desc='CIFAR-10 Dataset') as pbar:\n",
    "        urlretrieve(\n",
    "            'https://www.cs.toronto.edu/~kriz/cifar-10-python.tar.gz',\n",
    "            tar_path,\n",
    "            pbar.hook)\n",
    "\n",
    "if not isdir(cifar10_dataset_folder_path):\n",
    "    with tarfile.open(tar_path) as tar:\n",
    "        tar.extractall()\n",
    "        tar.close()\n",
    "\n",
    "\n",
    "tests.test_folder_path(cifar10_dataset_folder_path)"
   ]
  },
  {
   "cell_type": "markdown",
   "metadata": {
    "deletable": true,
    "editable": true
   },
   "source": [
    "## Explore the Data\n",
    "The dataset is broken into batches to prevent your machine from running out of memory.  The CIFAR-10 dataset consists of 5 batches, named `data_batch_1`, `data_batch_2`, etc.. Each batch contains the labels and images that are one of the following:\n",
    "* airplane\n",
    "* automobile\n",
    "* bird\n",
    "* cat\n",
    "* deer\n",
    "* dog\n",
    "* frog\n",
    "* horse\n",
    "* ship\n",
    "* truck\n",
    "\n",
    "Understanding a dataset is part of making predictions on the data.  Play around with the code cell below by changing the `batch_id` and `sample_id`. The `batch_id` is the id for a batch (1-5). The `sample_id` is the id for a image and label pair in the batch.\n",
    "\n",
    "Ask yourself \"What are all possible labels?\", \"What is the range of values for the image data?\", \"Are the labels in order or random?\".  Answers to questions like these will help you preprocess the data and end up with better predictions."
   ]
  },
  {
   "cell_type": "code",
   "execution_count": 2,
   "metadata": {
    "collapsed": false,
    "deletable": true,
    "editable": true
   },
   "outputs": [
    {
     "name": "stdout",
     "output_type": "stream",
     "text": [
      "\n",
      "Stats of batch 3:\n",
      "Samples: 10000\n",
      "Label Counts: {0: 994, 1: 1042, 2: 965, 3: 997, 4: 990, 5: 1029, 6: 978, 7: 1015, 8: 961, 9: 1029}\n",
      "First 20 Labels: [8, 5, 0, 6, 9, 2, 8, 3, 6, 2, 7, 4, 6, 9, 0, 0, 7, 3, 7, 2]\n",
      "\n",
      "Example of Image 5:\n",
      "Image - Min Value: 9 Max Value: 255\n",
      "Image - Shape: (32, 32, 3)\n",
      "Label - Label Id: 2 Name: bird\n"
     ]
    },
    {
     "data": {
      "image/png": "[encoded data removed]",
      "text/plain": [
       "<matplotlib.figure.Figure at 0x7fb4422c5828>"
      ]
     },
     "metadata": {
      "image/png": {
       "height": 250,
       "width": 253
      }
     },
     "output_type": "display_data"
    }
   ],
   "source": [
    "%matplotlib inline\n",
    "%config InlineBackend.figure_format = 'retina'\n",
    "\n",
    "import helper\n",
    "import numpy as np\n",
    "\n",
    "# Explore the dataset\n",
    "batch_id = 3\n",
    "sample_id = 5\n",
    "helper.display_stats(cifar10_dataset_folder_path, batch_id, sample_id)"
   ]
  },
  {
   "cell_type": "markdown",
   "metadata": {
    "deletable": true,
    "editable": true
   },
   "source": [
    "## Implement Preprocess Functions\n",
    "### Normalize\n",
    "In the cell below, implement the `normalize` function to take in image data, `x`, and return it as a normalized Numpy array. The values should be in the range of 0 to 1, inclusive.  The return object should be the same shape as `x`."
   ]
  },
  {
   "cell_type": "code",
   "execution_count": 3,
   "metadata": {
    "collapsed": false,
    "deletable": true,
    "editable": true
   },
   "outputs": [
    {
     "name": "stdout",
     "output_type": "stream",
     "text": [
      "Tests Passed\n"
     ]
    }
   ],
   "source": [
    "def normalize(x):\n",
    "    \"\"\"\n",
    "    Normalize a list of sample image data in the range of 0 to 1\n",
    "    : x: List of image data.  The image shape is (32, 32, 3)\n",
    "    : return: Numpy array of normalize data\n",
    "    \"\"\"\n",
    "    # TODO: Implement Function\n",
    "    min_x = np.min(x)\n",
    "    max_x = np.max(x)\n",
    "    return (x - min_x)/(max_x - min_x)\n",
    "\n",
    "#print(normalize(np.array([222, 21, 34])))\n",
    "\"\"\"\n",
    "DON'T MODIFY ANYTHING IN THIS CELL THAT IS BELOW THIS LINE\n",
    "\"\"\"\n",
    "tests.test_normalize(normalize)"
   ]
  },
  {
   "cell_type": "markdown",
   "metadata": {
    "deletable": true,
    "editable": true
   },
   "source": [
    "### One-hot encode\n",
    "Just like the previous code cell, you'll be implementing a function for preprocessing.  This time, you'll implement the `one_hot_encode` function. The input, `x`, are a list of labels.  Implement the function to return the list of labels as One-Hot encoded Numpy array.  The possible values for labels are 0 to 9. The one-hot encoding function should return the same encoding for each value between each call to `one_hot_encode`.  Make sure to save the map of encodings outside the function.\n",
    "\n",
    "Hint: Don't reinvent the wheel."
   ]
  },
  {
   "cell_type": "code",
   "execution_count": 4,
   "metadata": {
    "collapsed": false,
    "deletable": true,
    "editable": true
   },
   "outputs": [
    {
     "name": "stdout",
     "output_type": "stream",
     "text": [
      "Tests Passed\n"
     ]
    }
   ],
   "source": [
    "encode_map = {}\n",
    "\n",
    "def one_hot_encode(x):\n",
    "    global encode_map\n",
    "    \"\"\"\n",
    "    One hot encode a list of sample labels. Return a one-hot encoded vector for each label.\n",
    "    : x: List of sample Labels\n",
    "    : return: Numpy array of one-hot encoded labels\n",
    "    \"\"\"\n",
    "    '''encoded_arr = []#np.array(x.shape[0])\n",
    "    for label in x:\n",
    "        if label not in encode_map:\n",
    "            encoded = np.zeros((10))\n",
    "            encoded[label] = 1\n",
    "            encode_map[label] = encoded                  \n",
    "        \n",
    "        encoded_arr.append(encode_map[label])\n",
    "        \n",
    "    # TODO: Implement Function\n",
    "    return np.array(encoded_arr)'''\n",
    "    # Shorter sweeter way :D\n",
    "    return np.eye(10)[x]\n",
    "  \n",
    "\"\"\"\n",
    "DON'T MODIFY ANYTHING IN THIS CELL THAT IS BELOW THIS LINE\n",
    "\"\"\"\n",
    "tests.test_one_hot_encode(one_hot_encode)"
   ]
  },
  {
   "cell_type": "markdown",
   "metadata": {
    "deletable": true,
    "editable": true
   },
   "source": [
    "### Randomize Data\n",
    "As you saw from exploring the data above, the order of the samples are randomized.  It doesn't hurt to randomize it again, but you don't need to for this dataset."
   ]
  },
  {
   "cell_type": "markdown",
   "metadata": {
    "deletable": true,
    "editable": true
   },
   "source": [
    "## Preprocess all the data and save it\n",
    "Running the code cell below will preprocess all the CIFAR-10 data and save it to file. The code below also uses 10% of the training data for validation."
   ]
  },
  {
   "cell_type": "code",
   "execution_count": 5,
   "metadata": {
    "collapsed": false,
    "deletable": true,
    "editable": true
   },
   "outputs": [],
   "source": [
    "\"\"\"\n",
    "DON'T MODIFY ANYTHING IN THIS CELL\n",
    "\"\"\"\n",
    "# Preprocess Training, Validation, and Testing Data\n",
    "helper.preprocess_and_save_data(cifar10_dataset_folder_path, normalize, one_hot_encode)"
   ]
  },
  {
   "cell_type": "markdown",
   "metadata": {
    "deletable": true,
    "editable": true
   },
   "source": [
    "# Check Point\n",
    "This is your first checkpoint.  If you ever decide to come back to this notebook or have to restart the notebook, you can start from here.  The preprocessed data has been saved to disk."
   ]
  },
  {
   "cell_type": "code",
   "execution_count": 6,
   "metadata": {
    "collapsed": true,
    "deletable": true,
    "editable": true
   },
   "outputs": [],
   "source": [
    "\"\"\"\n",
    "DON'T MODIFY ANYTHING IN THIS CELL\n",
    "\"\"\"\n",
    "import pickle\n",
    "import problem_unittests as tests\n",
    "import helper\n",
    "\n",
    "# Load the Preprocessed Validation data\n",
    "valid_features, valid_labels = pickle.load(open('preprocess_validation.p', mode='rb'))"
   ]
  },
  {
   "cell_type": "markdown",
   "metadata": {
    "deletable": true,
    "editable": true
   },
   "source": [
    "## Build the network\n",
    "For the neural network, you'll build each layer into a function.  Most of the code you've seen has been outside of functions. To test your code more thoroughly, we require that you put each layer in a function.  This allows us to give you better feedback and test for simple mistakes using our unittests before you submit your project.\n",
    "\n",
    ">**Note:** If you're finding it hard to dedicate enough time for this course each week, we've provided a small shortcut to this part of the project. In the next couple of problems, you'll have the option to use classes from the [TensorFlow Layers](https://www.tensorflow.org/api_docs/python/tf/layers) or [TensorFlow Layers (contrib)](https://www.tensorflow.org/api_guides/python/contrib.layers) packages to build each layer, except the layers you build in the \"Convolutional and Max Pooling Layer\" section.  TF Layers is similar to Keras's and TFLearn's abstraction to layers, so it's easy to pickup.\n",
    "\n",
    ">However, if you would like to get the most out of this course, try to solve all the problems _without_ using anything from the TF Layers packages. You **can** still use classes from other packages that happen to have the same name as ones you find in TF Layers! For example, instead of using the TF Layers version of the `conv2d` class, [tf.layers.conv2d](https://www.tensorflow.org/api_docs/python/tf/layers/conv2d), you would want to use the TF Neural Network version of `conv2d`, [tf.nn.conv2d](https://www.tensorflow.org/api_docs/python/tf/nn/conv2d). \n",
    "\n",
    "Let's begin!\n",
    "\n",
    "### Input\n",
    "The neural network needs to read the image data, one-hot encoded labels, and dropout keep probability. Implement the following functions\n",
    "* Implement `neural_net_image_input`\n",
    " * Return a [TF Placeholder](https://www.tensorflow.org/api_docs/python/tf/placeholder)\n",
    " * Set the shape using `image_shape` with batch size set to `None`.\n",
    " * Name the TensorFlow placeholder \"x\" using the TensorFlow `name` parameter in the [TF Placeholder](https://www.tensorflow.org/api_docs/python/tf/placeholder).\n",
    "* Implement `neural_net_label_input`\n",
    " * Return a [TF Placeholder](https://www.tensorflow.org/api_docs/python/tf/placeholder)\n",
    " * Set the shape using `n_classes` with batch size set to `None`.\n",
    " * Name the TensorFlow placeholder \"y\" using the TensorFlow `name` parameter in the [TF Placeholder](https://www.tensorflow.org/api_docs/python/tf/placeholder).\n",
    "* Implement `neural_net_keep_prob_input`\n",
    " * Return a [TF Placeholder](https://www.tensorflow.org/api_docs/python/tf/placeholder) for dropout keep probability.\n",
    " * Name the TensorFlow placeholder \"keep_prob\" using the TensorFlow `name` parameter in the [TF Placeholder](https://www.tensorflow.org/api_docs/python/tf/placeholder).\n",
    "\n",
    "These names will be used at the end of the project to load your saved model.\n",
    "\n",
    "Note: `None` for shapes in TensorFlow allow for a dynamic size."
   ]
  },
  {
   "cell_type": "code",
   "execution_count": 7,
   "metadata": {
    "collapsed": false,
    "deletable": true,
    "editable": true,
    "scrolled": true
   },
   "outputs": [
    {
     "name": "stdout",
     "output_type": "stream",
     "text": [
      "Image Input Tests Passed.\n",
      "Label Input Tests Passed.\n",
      "Keep Prob Tests Passed.\n"
     ]
    }
   ],
   "source": [
    "import tensorflow as tf\n",
    "\n",
    "def neural_net_image_input(image_shape):\n",
    "    \"\"\"\n",
    "    Return a Tensor for a bach of image input\n",
    "    : image_shape: Shape of the images\n",
    "    : return: Tensor for image input.\n",
    "    \"\"\"\n",
    "    # TODO: Implement Function\n",
    "    return tf.placeholder(tf.float32, shape=(None, image_shape[0], image_shape[1], image_shape[2]), name='x')\n",
    "\n",
    "\n",
    "def neural_net_label_input(n_classes):\n",
    "    \"\"\"\n",
    "    Return a Tensor for a batch of label input\n",
    "    : n_classes: Number of classes\n",
    "    : return: Tensor for label input.\n",
    "    \"\"\"\n",
    "    # TODO: Implement Function\n",
    "    return  tf.placeholder(tf.float32, shape=(None, n_classes), name='y')\n",
    "\n",
    "\n",
    "def neural_net_keep_prob_input():\n",
    "    \"\"\"\n",
    "    Return a Tensor for keep probability\n",
    "    : return: Tensor for keep probability.\n",
    "    \"\"\"\n",
    "    # TODO: Implement Function\n",
    "    return tf.placeholder(tf.float32, name='keep_prob')\n",
    "\n",
    "\n",
    "\"\"\"\n",
    "DON'T MODIFY ANYTHING IN THIS CELL THAT IS BELOW THIS LINE\n",
    "\"\"\"\n",
    "tf.reset_default_graph()\n",
    "tests.test_nn_image_inputs(neural_net_image_input)\n",
    "tests.test_nn_label_inputs(neural_net_label_input)\n",
    "tests.test_nn_keep_prob_inputs(neural_net_keep_prob_input)"
   ]
  },
  {
   "cell_type": "markdown",
   "metadata": {
    "deletable": true,
    "editable": true
   },
   "source": [
    "### Convolution and Max Pooling Layer\n",
    "Convolution layers have a lot of success with images. For this code cell, you should implement the function `conv2d_maxpool` to apply convolution then max pooling:\n",
    "* Create the weight and bias using `conv_ksize`, `conv_num_outputs` and the shape of `x_tensor`.\n",
    "* Apply a convolution to `x_tensor` using weight and `conv_strides`.\n",
    " * We recommend you use same padding, but you're welcome to use any padding.\n",
    "* Add bias\n",
    "* Add a nonlinear activation to the convolution.\n",
    "* Apply Max Pooling using `pool_ksize` and `pool_strides`.\n",
    " * We recommend you use same padding, but you're welcome to use any padding.\n",
    "\n",
    "**Note:** You **can't** use [TensorFlow Layers](https://www.tensorflow.org/api_docs/python/tf/layers) or [TensorFlow Layers (contrib)](https://www.tensorflow.org/api_guides/python/contrib.layers) for **this** layer, but you can still use TensorFlow's [Neural Network](https://www.tensorflow.org/api_docs/python/tf/nn) package. You may still use the shortcut option for all the **other** layers."
   ]
  },
  {
   "cell_type": "code",
   "execution_count": 8,
   "metadata": {
    "collapsed": false,
    "deletable": true,
    "editable": true
   },
   "outputs": [
    {
     "name": "stdout",
     "output_type": "stream",
     "text": [
      "Tests Passed\n"
     ]
    }
   ],
   "source": [
    "def conv2d_maxpool(x_tensor, conv_num_outputs, conv_ksize, conv_strides, pool_ksize, pool_strides):\n",
    "    \"\"\"\n",
    "    Apply convolution then max pooling to x_tensor\n",
    "    :param x_tensor: TensorFlow Tensor\n",
    "    :param conv_num_outputs: Number of outputs for the convolutional layer\n",
    "    :param conv_ksize: kernal size 2-D Tuple for the convolutional layer\n",
    "    :param conv_strides: Stride 2-D Tuple for convolution\n",
    "    :param pool_ksize: kernal size 2-D Tuple for pool\n",
    "    :param pool_strides: Stride 2-D Tuple for pool\n",
    "    : return: A tensor that represents convolution and max pooling of x_tensor\n",
    "    \"\"\"\n",
    "    # TODO: Implement Function\n",
    "\n",
    "    # e.g. input: 20x20x3 with  20 filters  5x5x3; resultant 5x5x3x20  \n",
    "    depth_in = x_tensor.get_shape().as_list()[3]\n",
    "    F_w = tf.Variable( tf.random_normal([conv_ksize[0], conv_ksize[1], depth_in, conv_num_outputs], stddev = 0.05))\n",
    "    #F_b = tf.Variable(tf.random_normal((conv_num_outputs,), stddev = 0.05), dtype = tf.float32)\n",
    "    F_b = tf.zeros(conv_num_outputs,)\n",
    "    \n",
    "    # , use_cudnn_on_gpu=None\n",
    "    conv = tf.nn.conv2d(x_tensor, F_w, strides = [ 1, conv_strides[0], conv_strides[1], 1] , padding = 'SAME')\n",
    "    conv = tf.nn.bias_add(conv, F_b)   \n",
    "    conv = tf.nn.relu(conv)\n",
    "    \n",
    "    pool_ksize = [1, pool_ksize[0], pool_ksize[1], 1]\n",
    "    return tf.nn.max_pool(conv, pool_ksize,  strides = [ 1, pool_strides[0], pool_strides[1], 1], padding = 'SAME') \n",
    "\n",
    "\n",
    "\"\"\"\n",
    "DON'T MODIFY ANYTHING IN THIS CELL THAT IS BELOW THIS LINE\n",
    "\"\"\"\n",
    "tests.test_con_pool(conv2d_maxpool)"
   ]
  },
  {
   "cell_type": "markdown",
   "metadata": {
    "deletable": true,
    "editable": true
   },
   "source": [
    "### Flatten Layer\n",
    "Implement the `flatten` function to change the dimension of `x_tensor` from a 4-D tensor to a 2-D tensor.  The output should be the shape (*Batch Size*, *Flattened Image Size*). Shortcut option: you can use classes from the [TensorFlow Layers](https://www.tensorflow.org/api_docs/python/tf/layers) or [TensorFlow Layers (contrib)](https://www.tensorflow.org/api_guides/python/contrib.layers) packages for this layer. For more of a challenge, only use other TensorFlow packages."
   ]
  },
  {
   "cell_type": "code",
   "execution_count": 42,
   "metadata": {
    "collapsed": false,
    "deletable": true,
    "editable": true
   },
   "outputs": [],
   "source": [
    "def my_test():\n",
    "    t = tf.placeholder(tf.float32, [None, 10, 10, 3])\n",
    "    shape = t.get_shape().as_list() \n",
    "\n",
    "    product = 1\n",
    "    for a_size in shape[1:]:\n",
    "        product *= a_size\n",
    "\n",
    "    print(product)\n",
    "    print(tf.reshape(t, [-1, product]))\n",
    "#my_test()"
   ]
  },
  {
   "cell_type": "code",
   "execution_count": 9,
   "metadata": {
    "collapsed": false,
    "deletable": true,
    "editable": true
   },
   "outputs": [
    {
     "name": "stdout",
     "output_type": "stream",
     "text": [
      "Tests Passed\n"
     ]
    }
   ],
   "source": [
    "def flatten(x_tensor):\n",
    "    \"\"\"\n",
    "    Flatten x_tensor to (Batch Size, Flattened Image Size)\n",
    "    : x_tensor: A tensor of size (Batch Size, ...), where ... are the image dimensions.\n",
    "    : return: A tensor of size (Batch Size, Flattened Image Size).\n",
    "    \"\"\"\n",
    "    # TODO: Implement Function\n",
    "    # Multiply all dimensions and reshape\n",
    "    dims = x_tensor.get_shape().as_list()[1:]\n",
    "    prod = 1\n",
    "    for dim_len in dims:\n",
    "        prod *= dim_len\n",
    "    return tf.reshape(x_tensor, [-1, prod])\n",
    "\n",
    "\n",
    "\"\"\"\n",
    "DON'T MODIFY ANYTHING IN THIS CELL THAT IS BELOW THIS LINE\n",
    "\"\"\"\n",
    "tests.test_flatten(flatten)"
   ]
  },
  {
   "cell_type": "markdown",
   "metadata": {
    "deletable": true,
    "editable": true
   },
   "source": [
    "### Fully-Connected Layer\n",
    "Implement the `fully_conn` function to apply a fully connected layer to `x_tensor` with the shape (*Batch Size*, *num_outputs*). Shortcut option: you can use classes from the [TensorFlow Layers](https://www.tensorflow.org/api_docs/python/tf/layers) or [TensorFlow Layers (contrib)](https://www.tensorflow.org/api_guides/python/contrib.layers) packages for this layer. For more of a challenge, only use other TensorFlow packages."
   ]
  },
  {
   "cell_type": "code",
   "execution_count": 10,
   "metadata": {
    "collapsed": false,
    "deletable": true,
    "editable": true
   },
   "outputs": [
    {
     "name": "stdout",
     "output_type": "stream",
     "text": [
      "Tests Passed\n"
     ]
    }
   ],
   "source": [
    "def fully_conn(x_tensor, num_outputs):\n",
    "    \"\"\"\n",
    "    Apply a fully connected layer to x_tensor using weight and bias\n",
    "    : x_tensor: A 2-D tensor where the first dimension is batch size.\n",
    "    : num_outputs: The number of output that the new tensor should be.\n",
    "    : return: A 2-D tensor where the second dimension is num_outputs.\n",
    "    \"\"\"\n",
    "    # TODO: Implement Function\n",
    "    in_size = x_tensor.get_shape().as_list()[1]\n",
    "    \n",
    "    L_w = tf.Variable(tf.random_normal([ in_size, num_outputs], stddev = 0.05))\n",
    "    L_b = tf.Variable(tf.random_normal((num_outputs,)), dtype = tf.float32)\n",
    "    layer = tf.add(tf.matmul(x_tensor, L_w), L_b)\n",
    "    # Which activation fn should be used \n",
    "    return tf.nn.relu(layer)\n",
    "\n",
    "\n",
    "\"\"\"\n",
    "DON'T MODIFY ANYTHING IN THIS CELL THAT IS BELOW THIS LINE\n",
    "\"\"\"\n",
    "tests.test_fully_conn(fully_conn)"
   ]
  },
  {
   "cell_type": "markdown",
   "metadata": {
    "deletable": true,
    "editable": true
   },
   "source": [
    "### Output Layer\n",
    "Implement the `output` function to apply a fully connected layer to `x_tensor` with the shape (*Batch Size*, *num_outputs*). Shortcut option: you can use classes from the [TensorFlow Layers](https://www.tensorflow.org/api_docs/python/tf/layers) or [TensorFlow Layers (contrib)](https://www.tensorflow.org/api_guides/python/contrib.layers) packages for this layer. For more of a challenge, only use other TensorFlow packages.\n",
    "\n",
    "**Note:** Activation, softmax, or cross entropy should **not** be applied to this."
   ]
  },
  {
   "cell_type": "code",
   "execution_count": 11,
   "metadata": {
    "collapsed": false,
    "deletable": true,
    "editable": true
   },
   "outputs": [
    {
     "name": "stdout",
     "output_type": "stream",
     "text": [
      "Tests Passed\n"
     ]
    }
   ],
   "source": [
    "def output(x_tensor, num_outputs):\n",
    "    \"\"\"\n",
    "    Apply a output layer to x_tensor using weight and bias\n",
    "    : x_tensor: A 2-D tensor where the first dimension is batch size.\n",
    "    : num_outputs: The number of output that the new tensor should be.\n",
    "    : return: A 2-D tensor where the second dimension is num_outputs.\n",
    "    \"\"\"\n",
    "    # TODO: Implement Function\n",
    "    \n",
    "    in_size = x_tensor.get_shape().as_list()[1]\n",
    "    \n",
    "    L_w = tf.Variable(tf.random_normal([ in_size, num_outputs], stddev = 0.05))\n",
    "    L_b = tf.Variable(tf.zeros(num_outputs))\n",
    "    return tf.add(tf.matmul(x_tensor, L_w), L_b)\n",
    "    \n",
    "\n",
    "\n",
    "\"\"\"\n",
    "DON'T MODIFY ANYTHING IN THIS CELL THAT IS BELOW THIS LINE\n",
    "\"\"\"\n",
    "tests.test_output(output)"
   ]
  },
  {
   "cell_type": "markdown",
   "metadata": {
    "deletable": true,
    "editable": true
   },
   "source": [
    "### Create Convolutional Model\n",
    "Implement the function `conv_net` to create a convolutional neural network model. The function takes in a batch of images, `x`, and outputs logits.  Use the layers you created above to create this model:\n",
    "\n",
    "* Apply 1, 2, or 3 Convolution and Max Pool layers\n",
    "* Apply a Flatten Layer\n",
    "* Apply 1, 2, or 3 Fully Connected Layers\n",
    "* Apply an Output Layer\n",
    "* Return the output\n",
    "* Apply [TensorFlow's Dropout](https://www.tensorflow.org/api_docs/python/tf/nn/dropout) to one or more layers in the model using `keep_prob`. "
   ]
  },
  {
   "cell_type": "code",
   "execution_count": 109,
   "metadata": {
    "collapsed": false,
    "deletable": true,
    "editable": true,
    "scrolled": true
   },
   "outputs": [
    {
     "name": "stdout",
     "output_type": "stream",
     "text": [
      "Neural Network Built!\n"
     ]
    }
   ],
   "source": [
    "def conv_net(x, keep_prob):\n",
    "    \"\"\"\n",
    "    Create a convolutional neural network model\n",
    "    : x: Placeholder tensor that holds image data.\n",
    "    : keep_prob: Placeholder tensor that hold dropout keep probability.\n",
    "    : return: Tensor that represents logits\n",
    "    \"\"\"\n",
    "    # TODO: Apply 1, 2, or 3 Convolution and Max Pool layers\n",
    "    #    Play around with different number of outputs, kernel size and stride\n",
    "    # Function Definition from Above:\n",
    "    #    conv2d_maxpool(x_tensor, conv_num_outputs, conv_ksize, conv_strides, pool_ksize, pool_strides)\n",
    "    \n",
    "    class_count = 10\n",
    "    \n",
    "    outputs = [128, 100]\n",
    "    fc_outs = [192] #, 128]\n",
    "    conv_strides = [2, 2]\n",
    "    pool_strides = [1, 1]\n",
    "    \n",
    "    conv_ksize = [3, 3]\n",
    "    pool_ksize = [2, 2]\n",
    "    \n",
    "    \n",
    "    \n",
    "    layer = conv2d_maxpool(x, outputs[0], conv_ksize, conv_strides, pool_ksize, pool_strides)\n",
    "    \n",
    "    layer = conv2d_maxpool(layer, outputs[1], conv_ksize, conv_strides, pool_ksize, pool_strides)\n",
    "    \n",
    "    #layer = conv2d_maxpool(layer, outputs[2], conv_ksize, conv_strides, pool_ksize, pool_strides)\n",
    "\n",
    "    \n",
    "\n",
    "    #conv2d_maxpool(x_tensor, conv_num_outputs, conv_ksize, conv_strides, pool_ksize, pool_strides)\n",
    "    # TODO: Apply a Flatten Layer\n",
    "    # Function Definition from Above:\n",
    "    #   flatten(x_tensor)\n",
    "    \n",
    "    layer = flatten(layer)\n",
    "    # TODO: Apply 1, 2, or 3 Fully Connected Layers\n",
    "    #    Play around with different number of outputs\n",
    "    # Function Definition from Above:\n",
    "    #   fully_conn(x_tensor, num_outputs)\n",
    "    \n",
    "    layer = fully_conn(layer, fc_outs[0])\n",
    "    layer = tf.nn.dropout(layer, keep_prob)\n",
    "    \n",
    "    #layer = fully_conn(layer, fc_outs[1])\n",
    "    #layer = tf.nn.dropout(layer, keep_prob)\n",
    "    # TODO: Apply an Output Layer\n",
    "    #    Set this to the number of classes\n",
    "    # Function Definition from Above:\n",
    "    #   output(x_tensor, num_outputs)\n",
    "    \n",
    "    layer = output(layer, class_count) \n",
    "    \n",
    "    # TODO: return output\n",
    "    return layer\n",
    "\n",
    "\n",
    "\"\"\"\n",
    "DON'T MODIFY ANYTHING IN THIS CELL THAT IS BELOW THIS LINE\n",
    "\"\"\"\n",
    "\n",
    "##############################\n",
    "## Build the Neural Network ##\n",
    "##############################\n",
    "\n",
    "# Remove previous weights, bias, inputs, etc..\n",
    "tf.reset_default_graph()\n",
    "\n",
    "# Inputs\n",
    "x = neural_net_image_input((32, 32, 3))\n",
    "y = neural_net_label_input(10)\n",
    "keep_prob = neural_net_keep_prob_input()\n",
    "\n",
    "# Model\n",
    "logits = conv_net(x, keep_prob)\n",
    "\n",
    "# Name logits Tensor, so that is can be loaded from disk after training\n",
    "logits = tf.identity(logits, name='logits')\n",
    "\n",
    "# Loss and Optimizer\n",
    "cost = tf.reduce_mean(tf.nn.softmax_cross_entropy_with_logits(logits=logits, labels=y))\n",
    "optimizer = tf.train.AdamOptimizer().minimize(cost)\n",
    "\n",
    "# Accuracy\n",
    "correct_pred = tf.equal(tf.argmax(logits, 1), tf.argmax(y, 1))\n",
    "accuracy = tf.reduce_mean(tf.cast(correct_pred, tf.float32), name='accuracy')\n",
    "\n",
    "tests.test_conv_net(conv_net)"
   ]
  },
  {
   "cell_type": "markdown",
   "metadata": {
    "deletable": true,
    "editable": true
   },
   "source": [
    "## Train the Neural Network\n",
    "### Single Optimization\n",
    "Implement the function `train_neural_network` to do a single optimization.  The optimization should use `optimizer` to optimize in `session` with a `feed_dict` of the following:\n",
    "* `x` for image input\n",
    "* `y` for labels\n",
    "* `keep_prob` for keep probability for dropout\n",
    "\n",
    "This function will be called for each batch, so `tf.global_variables_initializer()` has already been called.\n",
    "\n",
    "Note: Nothing needs to be returned. This function is only optimizing the neural network."
   ]
  },
  {
   "cell_type": "code",
   "execution_count": 110,
   "metadata": {
    "collapsed": false,
    "deletable": true,
    "editable": true
   },
   "outputs": [
    {
     "name": "stdout",
     "output_type": "stream",
     "text": [
      "Tests Passed\n"
     ]
    }
   ],
   "source": [
    "def train_neural_network(session, optimizer, keep_probability, feature_batch, label_batch):\n",
    "    \"\"\"\n",
    "    Optimize the session on a batch of images and labels\n",
    "    : session: Current TensorFlow session\n",
    "    : optimizer: TensorFlow optimizer function\n",
    "    : keep_probability: keep probability\n",
    "    : feature_batch: Batch of Numpy image data\n",
    "    : label_batch: Batch of Numpy label data\n",
    "    \"\"\"\n",
    "    # TODO: Implement Function\n",
    "    return session.run(optimizer, feed_dict = {x : feature_batch, y : label_batch, keep_prob : keep_probability})\n",
    "    \n",
    "\n",
    "\n",
    "\"\"\"\n",
    "DON'T MODIFY ANYTHING IN THIS CELL THAT IS BELOW THIS LINE\n",
    "\"\"\"\n",
    "tests.test_train_nn(train_neural_network)"
   ]
  },
  {
   "cell_type": "markdown",
   "metadata": {
    "deletable": true,
    "editable": true
   },
   "source": [
    "### Show Stats\n",
    "Implement the function `print_stats` to print loss and validation accuracy.  Use the global variables `valid_features` and `valid_labels` to calculate validation accuracy.  Use a keep probability of `1.0` to calculate the loss and validation accuracy."
   ]
  },
  {
   "cell_type": "code",
   "execution_count": 46,
   "metadata": {
    "collapsed": false,
    "deletable": true,
    "editable": true
   },
   "outputs": [],
   "source": [
    "def print_stats(session, feature_batch, label_batch, cost, accuracy):\n",
    "    \"\"\"\n",
    "    Print information about loss and validation accuracy\n",
    "    : session: Current TensorFlow session\n",
    "    : feature_batch: Batch of Numpy image data\n",
    "    : label_batch: Batch of Numpy label data\n",
    "    : cost: TensorFlow cost function\n",
    "    : accuracy: TensorFlow accuracy function\n",
    "    \"\"\"\n",
    "    # TODO: Implement Function\n",
    "    global valid_features, valid_labels\n",
    "    loss = session.run(cost, feed_dict = {x : feature_batch, y : label_batch, keep_prob : 1.0})\n",
    "    acc = session.run(accuracy, feed_dict = { x : valid_features, y : valid_labels, keep_prob : 1.0})\n",
    "    \n",
    "    print( 'Loss: {:>10.4f} Val Accuracy: {:.6f}'.format( loss, acc))"
   ]
  },
  {
   "cell_type": "markdown",
   "metadata": {
    "deletable": true,
    "editable": true
   },
   "source": [
    "### Hyperparameters\n",
    "Tune the following parameters:\n",
    "* Set `epochs` to the number of iterations until the network stops learning or start overfitting\n",
    "* Set `batch_size` to the highest number that your machine has memory for.  Most people set them to common sizes of memory:\n",
    " * 64\n",
    " * 128\n",
    " * 256\n",
    " * ...\n",
    "* Set `keep_probability` to the probability of keeping a node using dropout"
   ]
  },
  {
   "cell_type": "code",
   "execution_count": 99,
   "metadata": {
    "collapsed": true,
    "deletable": true,
    "editable": true
   },
   "outputs": [],
   "source": [
    "# TODO: Tune Parameters\n",
    "epochs = 20\n",
    "batch_size = 128\n",
    "keep_probability = 0.6"
   ]
  },
  {
   "cell_type": "markdown",
   "metadata": {
    "deletable": true,
    "editable": true
   },
   "source": [
    "### Train on a Single CIFAR-10 Batch\n",
    "Instead of training the neural network on all the CIFAR-10 batches of data, let's use a single batch. This should save time while you iterate on the model to get a better accuracy.  Once the final validation accuracy is 50% or greater, run the model on all the data in the next section."
   ]
  },
  {
   "cell_type": "code",
   "execution_count": 111,
   "metadata": {
    "collapsed": false,
    "deletable": true,
    "editable": true
   },
   "outputs": [
    {
     "name": "stdout",
     "output_type": "stream",
     "text": [
      "Checking the Training on a Single Batch...\n",
      "Epoch  1, CIFAR-10 Batch 1:  Loss:     1.8891 Val Accuracy: 0.395400\n",
      "Epoch  2, CIFAR-10 Batch 1:  Loss:     1.7287 Val Accuracy: 0.461200\n",
      "Epoch  3, CIFAR-10 Batch 1:  Loss:     1.5444 Val Accuracy: 0.498400\n",
      "Epoch  4, CIFAR-10 Batch 1:  Loss:     1.3407 Val Accuracy: 0.527400\n",
      "Epoch  5, CIFAR-10 Batch 1:  Loss:     1.1894 Val Accuracy: 0.538800\n",
      "Epoch  6, CIFAR-10 Batch 1:  Loss:     1.0664 Val Accuracy: 0.561000\n",
      "Epoch  7, CIFAR-10 Batch 1:  Loss:     0.8949 Val Accuracy: 0.562800\n",
      "Epoch  8, CIFAR-10 Batch 1:  Loss:     0.8432 Val Accuracy: 0.584200\n",
      "Epoch  9, CIFAR-10 Batch 1:  Loss:     0.7284 Val Accuracy: 0.590200\n",
      "Epoch 10, CIFAR-10 Batch 1:  Loss:     0.6059 Val Accuracy: 0.598400\n",
      "Epoch 11, CIFAR-10 Batch 1:  Loss:     0.5160 Val Accuracy: 0.613600\n",
      "Epoch 12, CIFAR-10 Batch 1:  Loss:     0.4693 Val Accuracy: 0.614400\n",
      "Epoch 13, CIFAR-10 Batch 1:  Loss:     0.3824 Val Accuracy: 0.633000\n",
      "Epoch 14, CIFAR-10 Batch 1:  Loss:     0.3359 Val Accuracy: 0.631400\n",
      "Epoch 15, CIFAR-10 Batch 1:  Loss:     0.3039 Val Accuracy: 0.621200\n",
      "Epoch 16, CIFAR-10 Batch 1:  Loss:     0.2506 Val Accuracy: 0.617800\n",
      "Epoch 17, CIFAR-10 Batch 1:  Loss:     0.2134 Val Accuracy: 0.624400\n",
      "Epoch 18, CIFAR-10 Batch 1:  Loss:     0.1912 Val Accuracy: 0.611200\n",
      "Epoch 19, CIFAR-10 Batch 1:  Loss:     0.1856 Val Accuracy: 0.617200\n",
      "Epoch 20, CIFAR-10 Batch 1:  Loss:     0.1467 Val Accuracy: 0.602800\n"
     ]
    }
   ],
   "source": [
    "\"\"\"\n",
    "DON'T MODIFY ANYTHING IN THIS CELL\n",
    "\"\"\"\n",
    "print('Checking the Training on a Single Batch...')\n",
    "with tf.Session() as sess:\n",
    "    # Initializing the variables\n",
    "    sess.run(tf.global_variables_initializer())\n",
    "    \n",
    "    # Training cycle\n",
    "    for epoch in range(epochs):\n",
    "        batch_i = 1\n",
    "        for batch_features, batch_labels in helper.load_preprocess_training_batch(batch_i, batch_size):\n",
    "            train_neural_network(sess, optimizer, keep_probability, batch_features, batch_labels)\n",
    "        print('Epoch {:>2}, CIFAR-10 Batch {}:  '.format(epoch + 1, batch_i), end='')\n",
    "        print_stats(sess, batch_features, batch_labels, cost, accuracy)"
   ]
  },
  {
   "cell_type": "markdown",
   "metadata": {
    "deletable": true,
    "editable": true
   },
   "source": [
    "### Fully Train the Model\n",
    "Now that you got a good accuracy with a single CIFAR-10 batch, try it with all five batches."
   ]
  },
  {
   "cell_type": "code",
   "execution_count": 112,
   "metadata": {
    "collapsed": false,
    "deletable": true,
    "editable": true
   },
   "outputs": [
    {
     "name": "stdout",
     "output_type": "stream",
     "text": [
      "Training...\n",
      "Epoch  1, CIFAR-10 Batch 1:  Loss:     1.9048 Val Accuracy: 0.373600\n",
      "Epoch  1, CIFAR-10 Batch 2:  Loss:     1.5331 Val Accuracy: 0.443200\n",
      "Epoch  1, CIFAR-10 Batch 3:  Loss:     1.2850 Val Accuracy: 0.480200\n",
      "Epoch  1, CIFAR-10 Batch 4:  Loss:     1.3824 Val Accuracy: 0.489400\n",
      "Epoch  1, CIFAR-10 Batch 5:  Loss:     1.3748 Val Accuracy: 0.542200\n",
      "Epoch  2, CIFAR-10 Batch 1:  Loss:     1.4895 Val Accuracy: 0.562600\n",
      "Epoch  2, CIFAR-10 Batch 2:  Loss:     1.1207 Val Accuracy: 0.532800\n",
      "Epoch  2, CIFAR-10 Batch 3:  Loss:     0.9349 Val Accuracy: 0.584600\n",
      "Epoch  2, CIFAR-10 Batch 4:  Loss:     1.0620 Val Accuracy: 0.599800\n",
      "Epoch  2, CIFAR-10 Batch 5:  Loss:     1.0901 Val Accuracy: 0.622000\n",
      "Epoch  3, CIFAR-10 Batch 1:  Loss:     1.1648 Val Accuracy: 0.619000\n",
      "Epoch  3, CIFAR-10 Batch 2:  Loss:     0.8729 Val Accuracy: 0.599600\n",
      "Epoch  3, CIFAR-10 Batch 3:  Loss:     0.7560 Val Accuracy: 0.628800\n",
      "Epoch  3, CIFAR-10 Batch 4:  Loss:     0.8338 Val Accuracy: 0.638000\n",
      "Epoch  3, CIFAR-10 Batch 5:  Loss:     0.8309 Val Accuracy: 0.649200\n",
      "Epoch  4, CIFAR-10 Batch 1:  Loss:     0.9848 Val Accuracy: 0.654400\n",
      "Epoch  4, CIFAR-10 Batch 2:  Loss:     0.7347 Val Accuracy: 0.637800\n",
      "Epoch  4, CIFAR-10 Batch 3:  Loss:     0.5917 Val Accuracy: 0.650000\n",
      "Epoch  4, CIFAR-10 Batch 4:  Loss:     0.7195 Val Accuracy: 0.654800\n",
      "Epoch  4, CIFAR-10 Batch 5:  Loss:     0.7177 Val Accuracy: 0.671400\n",
      "Epoch  5, CIFAR-10 Batch 1:  Loss:     0.7851 Val Accuracy: 0.652400\n",
      "Epoch  5, CIFAR-10 Batch 2:  Loss:     0.5868 Val Accuracy: 0.671800\n",
      "Epoch  5, CIFAR-10 Batch 3:  Loss:     0.4785 Val Accuracy: 0.657400\n",
      "Epoch  5, CIFAR-10 Batch 4:  Loss:     0.6758 Val Accuracy: 0.666000\n",
      "Epoch  5, CIFAR-10 Batch 5:  Loss:     0.6408 Val Accuracy: 0.680600\n",
      "Epoch  6, CIFAR-10 Batch 1:  Loss:     0.6503 Val Accuracy: 0.675200\n",
      "Epoch  6, CIFAR-10 Batch 2:  Loss:     0.5134 Val Accuracy: 0.672200\n",
      "Epoch  6, CIFAR-10 Batch 3:  Loss:     0.4102 Val Accuracy: 0.681800\n",
      "Epoch  6, CIFAR-10 Batch 4:  Loss:     0.6060 Val Accuracy: 0.690400\n",
      "Epoch  6, CIFAR-10 Batch 5:  Loss:     0.5349 Val Accuracy: 0.691000\n",
      "Epoch  7, CIFAR-10 Batch 1:  Loss:     0.6025 Val Accuracy: 0.666400\n",
      "Epoch  7, CIFAR-10 Batch 2:  Loss:     0.4461 Val Accuracy: 0.687400\n",
      "Epoch  7, CIFAR-10 Batch 3:  Loss:     0.3634 Val Accuracy: 0.684600\n",
      "Epoch  7, CIFAR-10 Batch 4:  Loss:     0.6026 Val Accuracy: 0.696400\n",
      "Epoch  7, CIFAR-10 Batch 5:  Loss:     0.4686 Val Accuracy: 0.695200\n",
      "Epoch  8, CIFAR-10 Batch 1:  Loss:     0.5276 Val Accuracy: 0.690200\n",
      "Epoch  8, CIFAR-10 Batch 2:  Loss:     0.3749 Val Accuracy: 0.692400\n",
      "Epoch  8, CIFAR-10 Batch 3:  Loss:     0.3112 Val Accuracy: 0.698000\n",
      "Epoch  8, CIFAR-10 Batch 4:  Loss:     0.4467 Val Accuracy: 0.711200\n",
      "Epoch  8, CIFAR-10 Batch 5:  Loss:     0.4013 Val Accuracy: 0.698800\n",
      "Epoch  9, CIFAR-10 Batch 1:  Loss:     0.4189 Val Accuracy: 0.705200\n",
      "Epoch  9, CIFAR-10 Batch 2:  Loss:     0.3281 Val Accuracy: 0.685000\n",
      "Epoch  9, CIFAR-10 Batch 3:  Loss:     0.2757 Val Accuracy: 0.706600\n",
      "Epoch  9, CIFAR-10 Batch 4:  Loss:     0.4051 Val Accuracy: 0.698000\n",
      "Epoch  9, CIFAR-10 Batch 5:  Loss:     0.3137 Val Accuracy: 0.710200\n",
      "Epoch 10, CIFAR-10 Batch 1:  Loss:     0.3667 Val Accuracy: 0.706000\n",
      "Epoch 10, CIFAR-10 Batch 2:  Loss:     0.2702 Val Accuracy: 0.693400\n",
      "Epoch 10, CIFAR-10 Batch 3:  Loss:     0.2637 Val Accuracy: 0.704400\n",
      "Epoch 10, CIFAR-10 Batch 4:  Loss:     0.3585 Val Accuracy: 0.715600\n",
      "Epoch 10, CIFAR-10 Batch 5:  Loss:     0.2983 Val Accuracy: 0.707800\n",
      "Epoch 11, CIFAR-10 Batch 1:  Loss:     0.3180 Val Accuracy: 0.714600\n",
      "Epoch 11, CIFAR-10 Batch 2:  Loss:     0.2339 Val Accuracy: 0.698600\n",
      "Epoch 11, CIFAR-10 Batch 3:  Loss:     0.1997 Val Accuracy: 0.719600\n",
      "Epoch 11, CIFAR-10 Batch 4:  Loss:     0.2957 Val Accuracy: 0.724000\n",
      "Epoch 11, CIFAR-10 Batch 5:  Loss:     0.2836 Val Accuracy: 0.716400\n",
      "Epoch 12, CIFAR-10 Batch 1:  Loss:     0.3047 Val Accuracy: 0.714600\n",
      "Epoch 12, CIFAR-10 Batch 2:  Loss:     0.2239 Val Accuracy: 0.709200\n",
      "Epoch 12, CIFAR-10 Batch 3:  Loss:     0.2108 Val Accuracy: 0.715400\n",
      "Epoch 12, CIFAR-10 Batch 4:  Loss:     0.2806 Val Accuracy: 0.720400\n",
      "Epoch 12, CIFAR-10 Batch 5:  Loss:     0.2124 Val Accuracy: 0.719800\n",
      "Epoch 13, CIFAR-10 Batch 1:  Loss:     0.2769 Val Accuracy: 0.714800\n",
      "Epoch 13, CIFAR-10 Batch 2:  Loss:     0.1788 Val Accuracy: 0.711600\n",
      "Epoch 13, CIFAR-10 Batch 3:  Loss:     0.1376 Val Accuracy: 0.729400\n",
      "Epoch 13, CIFAR-10 Batch 4:  Loss:     0.2395 Val Accuracy: 0.718200\n",
      "Epoch 13, CIFAR-10 Batch 5:  Loss:     0.2066 Val Accuracy: 0.709400\n",
      "Epoch 14, CIFAR-10 Batch 1:  Loss:     0.2345 Val Accuracy: 0.719800\n",
      "Epoch 14, CIFAR-10 Batch 2:  Loss:     0.1539 Val Accuracy: 0.714600\n",
      "Epoch 14, CIFAR-10 Batch 3:  Loss:     0.1446 Val Accuracy: 0.719600\n",
      "Epoch 14, CIFAR-10 Batch 4:  Loss:     0.2016 Val Accuracy: 0.707800\n",
      "Epoch 14, CIFAR-10 Batch 5:  Loss:     0.1588 Val Accuracy: 0.726600\n",
      "Epoch 15, CIFAR-10 Batch 1:  Loss:     0.2247 Val Accuracy: 0.707600\n",
      "Epoch 15, CIFAR-10 Batch 2:  Loss:     0.1427 Val Accuracy: 0.715200\n",
      "Epoch 15, CIFAR-10 Batch 3:  Loss:     0.1306 Val Accuracy: 0.711600\n",
      "Epoch 15, CIFAR-10 Batch 4:  Loss:     0.1669 Val Accuracy: 0.709400\n",
      "Epoch 15, CIFAR-10 Batch 5:  Loss:     0.1619 Val Accuracy: 0.714800\n",
      "Epoch 16, CIFAR-10 Batch 1:  Loss:     0.2119 Val Accuracy: 0.720200\n",
      "Epoch 16, CIFAR-10 Batch 2:  Loss:     0.1345 Val Accuracy: 0.716800\n",
      "Epoch 16, CIFAR-10 Batch 3:  Loss:     0.1310 Val Accuracy: 0.701200\n",
      "Epoch 16, CIFAR-10 Batch 4:  Loss:     0.1149 Val Accuracy: 0.716200\n",
      "Epoch 16, CIFAR-10 Batch 5:  Loss:     0.1182 Val Accuracy: 0.718000\n",
      "Epoch 17, CIFAR-10 Batch 1:  Loss:     0.1898 Val Accuracy: 0.723600\n",
      "Epoch 17, CIFAR-10 Batch 2:  Loss:     0.1157 Val Accuracy: 0.715600\n",
      "Epoch 17, CIFAR-10 Batch 3:  Loss:     0.1052 Val Accuracy: 0.713400\n",
      "Epoch 17, CIFAR-10 Batch 4:  Loss:     0.1001 Val Accuracy: 0.717200\n",
      "Epoch 17, CIFAR-10 Batch 5:  Loss:     0.0902 Val Accuracy: 0.728400\n",
      "Epoch 18, CIFAR-10 Batch 1:  Loss:     0.1477 Val Accuracy: 0.725000\n",
      "Epoch 18, CIFAR-10 Batch 2:  Loss:     0.0962 Val Accuracy: 0.717400\n",
      "Epoch 18, CIFAR-10 Batch 3:  Loss:     0.1006 Val Accuracy: 0.709200\n",
      "Epoch 18, CIFAR-10 Batch 4:  Loss:     0.0879 Val Accuracy: 0.718200\n",
      "Epoch 18, CIFAR-10 Batch 5:  Loss:     0.0983 Val Accuracy: 0.712800\n",
      "Epoch 19, CIFAR-10 Batch 1:  Loss:     0.1609 Val Accuracy: 0.711400\n",
      "Epoch 19, CIFAR-10 Batch 2:  Loss:     0.1028 Val Accuracy: 0.722000\n",
      "Epoch 19, CIFAR-10 Batch 3:  Loss:     0.0931 Val Accuracy: 0.715200\n",
      "Epoch 19, CIFAR-10 Batch 4:  Loss:     0.0816 Val Accuracy: 0.718400\n",
      "Epoch 19, CIFAR-10 Batch 5:  Loss:     0.0855 Val Accuracy: 0.722200\n",
      "Epoch 20, CIFAR-10 Batch 1:  Loss:     0.1299 Val Accuracy: 0.717200\n",
      "Epoch 20, CIFAR-10 Batch 2:  Loss:     0.0826 Val Accuracy: 0.710600\n",
      "Epoch 20, CIFAR-10 Batch 3:  Loss:     0.0998 Val Accuracy: 0.715800\n",
      "Epoch 20, CIFAR-10 Batch 4:  Loss:     0.0573 Val Accuracy: 0.708200\n",
      "Epoch 20, CIFAR-10 Batch 5:  Loss:     0.0662 Val Accuracy: 0.718200\n"
     ]
    }
   ],
   "source": [
    "\"\"\"\n",
    "DON'T MODIFY ANYTHING IN THIS CELL\n",
    "\"\"\"\n",
    "save_model_path = './image_classification'\n",
    "\n",
    "print('Training...')\n",
    "with tf.Session() as sess:\n",
    "    # Initializing the variables\n",
    "    sess.run(tf.global_variables_initializer())\n",
    "    \n",
    "    # Training cycle\n",
    "    for epoch in range(epochs):\n",
    "        # Loop over all batches\n",
    "        n_batches = 5\n",
    "        for batch_i in range(1, n_batches + 1):\n",
    "            for batch_features, batch_labels in helper.load_preprocess_training_batch(batch_i, batch_size):\n",
    "                train_neural_network(sess, optimizer, keep_probability, batch_features, batch_labels)\n",
    "            print('Epoch {:>2}, CIFAR-10 Batch {}:  '.format(epoch + 1, batch_i), end='')\n",
    "            print_stats(sess, batch_features, batch_labels, cost, accuracy)\n",
    "            \n",
    "    # Save Model\n",
    "    saver = tf.train.Saver()\n",
    "    save_path = saver.save(sess, save_model_path)"
   ]
  },
  {
   "cell_type": "markdown",
   "metadata": {
    "deletable": true,
    "editable": true
   },
   "source": [
    "# Checkpoint\n",
    "The model has been saved to disk.\n",
    "## Test Model\n",
    "Test your model against the test dataset.  This will be your final accuracy. You should have an accuracy greater than 50%. If you don't, keep tweaking the model architecture and parameters."
   ]
  },
  {
   "cell_type": "code",
   "execution_count": 113,
   "metadata": {
    "collapsed": false,
    "deletable": true,
    "editable": true
   },
   "outputs": [
    {
     "name": "stdout",
     "output_type": "stream",
     "text": [
      "Testing Accuracy: 0.7186511075949367\n",
      "\n"
     ]
    },
    {
     "data": {
      "image/png": "[encoded data removed]",
      "text/plain": [
       "<matplotlib.figure.Figure at 0x7fb4993a7828>"
      ]
     },
     "metadata": {
      "image/png": {
       "height": 319,
       "width": 355
      }
     },
     "output_type": "display_data"
    }
   ],
   "source": [
    "\"\"\"\n",
    "DON'T MODIFY ANYTHING IN THIS CELL\n",
    "\"\"\"\n",
    "%matplotlib inline\n",
    "%config InlineBackend.figure_format = 'retina'\n",
    "\n",
    "import tensorflow as tf\n",
    "import pickle\n",
    "import helper\n",
    "import random\n",
    "\n",
    "# Set batch size if not already set\n",
    "try:\n",
    "    if batch_size:\n",
    "        pass\n",
    "except NameError:\n",
    "    batch_size = 64\n",
    "\n",
    "save_model_path = './image_classification'\n",
    "n_samples = 4\n",
    "top_n_predictions = 3\n",
    "\n",
    "def test_model():\n",
    "    \"\"\"\n",
    "    Test the saved model against the test dataset\n",
    "    \"\"\"\n",
    "\n",
    "    test_features, test_labels = pickle.load(open('preprocess_training.p', mode='rb'))\n",
    "    loaded_graph = tf.Graph()\n",
    "\n",
    "    with tf.Session(graph=loaded_graph) as sess:\n",
    "        # Load model\n",
    "        loader = tf.train.import_meta_graph(save_model_path + '.meta')\n",
    "        loader.restore(sess, save_model_path)\n",
    "\n",
    "        # Get Tensors from loaded model\n",
    "        loaded_x = loaded_graph.get_tensor_by_name('x:0')\n",
    "        loaded_y = loaded_graph.get_tensor_by_name('y:0')\n",
    "        loaded_keep_prob = loaded_graph.get_tensor_by_name('keep_prob:0')\n",
    "        loaded_logits = loaded_graph.get_tensor_by_name('logits:0')\n",
    "        loaded_acc = loaded_graph.get_tensor_by_name('accuracy:0')\n",
    "        \n",
    "        # Get accuracy in batches for memory limitations\n",
    "        test_batch_acc_total = 0\n",
    "        test_batch_count = 0\n",
    "        \n",
    "        for train_feature_batch, train_label_batch in helper.batch_features_labels(test_features, test_labels, batch_size):\n",
    "            test_batch_acc_total += sess.run(\n",
    "                loaded_acc,\n",
    "                feed_dict={loaded_x: train_feature_batch, loaded_y: train_label_batch, loaded_keep_prob: 1.0})\n",
    "            test_batch_count += 1\n",
    "\n",
    "        print('Testing Accuracy: {}\\n'.format(test_batch_acc_total/test_batch_count))\n",
    "\n",
    "        # Print Random Samples\n",
    "        random_test_features, random_test_labels = tuple(zip(*random.sample(list(zip(test_features, test_labels)), n_samples)))\n",
    "        random_test_predictions = sess.run(\n",
    "            tf.nn.top_k(tf.nn.softmax(loaded_logits), top_n_predictions),\n",
    "            feed_dict={loaded_x: random_test_features, loaded_y: random_test_labels, loaded_keep_prob: 1.0})\n",
    "        helper.display_image_predictions(random_test_features, random_test_labels, random_test_predictions)\n",
    "\n",
    "\n",
    "test_model()"
   ]
  },
  {
   "cell_type": "markdown",
   "metadata": {
    "deletable": true,
    "editable": true
   },
   "source": [
    "## Why 50-70% Accuracy?\n",
    "You might be wondering why you can't get an accuracy any higher. First things first, 50% isn't bad for a simple CNN.  Pure guessing would get you 10% accuracy. However, you might notice people are getting scores [well above 70%](http://rodrigob.github.io/are_we_there_yet/build/classification_datasets_results.html#43494641522d3130).  That's because we haven't taught you all there is to know about neural networks. We still need to cover a few more techniques.\n",
    "## Submitting This Project\n",
    "When submitting this project, make sure to run all the cells before saving the notebook.  Save the notebook file as \"dlnd_image_classification.ipynb\" and save it as a HTML file under \"File\" -> \"Download as\".  Include the \"helper.py\" and \"problem_unittests.py\" files in your submission."
   ]
  }
 ],
 "metadata": {
  "kernelspec": {
   "display_name": "Python 3",
   "language": "python",
   "name": "python3"
  },
  "language_info": {
   "codemirror_mode": {
    "name": "ipython",
    "version": 3
   },
   "file_extension": ".py",
   "mimetype": "text/x-python",
   "name": "python",
   "nbconvert_exporter": "python",
   "pygments_lexer": "ipython3",
   "version": "3.5.3"
  }
 },
 "nbformat": 4,
 "nbformat_minor": 0
}
